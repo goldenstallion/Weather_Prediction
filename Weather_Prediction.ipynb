{
 "cells": [
  {
   "cell_type": "markdown",
   "id": "9d188a1e-62b7-4821-82f9-43ede0848ba1",
   "metadata": {},
   "source": [
    "<font size = +4>Predicting Weather using ML.</font>"
   ]
  },
  {
   "cell_type": "code",
   "execution_count": null,
   "id": "90a04d1f-4ecd-4a5a-adae-d983e6ff76e0",
   "metadata": {},
   "outputs": [],
   "source": []
  },
  {
   "cell_type": "code",
   "execution_count": 2,
   "id": "05a09092-e216-4ef4-9daf-e1effcf474a9",
   "metadata": {},
   "outputs": [],
   "source": [
    "#importing the libraries needed for this project\n",
    "import pandas as pd\n",
    "import numpy as np\n",
    "import warnings\n",
    "import seaborn as sns\n",
    "from seaborn import load_dataset\n",
    "import matplotlib.pyplot as plt\n",
    "warnings.filterwarnings('ignore')"
   ]
  },
  {
   "cell_type": "code",
   "execution_count": 3,
   "id": "194f5822-d840-44fe-890c-e10c27d648e4",
   "metadata": {},
   "outputs": [],
   "source": [
    "#importing the file needed for this task."
   ]
  },
  {
   "cell_type": "code",
   "execution_count": 4,
   "id": "2cc429d2-aabb-42da-8154-972951d5c165",
   "metadata": {},
   "outputs": [
    {
     "data": {
      "text/html": [
       "<div>\n",
       "<style scoped>\n",
       "    .dataframe tbody tr th:only-of-type {\n",
       "        vertical-align: middle;\n",
       "    }\n",
       "\n",
       "    .dataframe tbody tr th {\n",
       "        vertical-align: top;\n",
       "    }\n",
       "\n",
       "    .dataframe thead th {\n",
       "        text-align: right;\n",
       "    }\n",
       "</style>\n",
       "<table border=\"1\" class=\"dataframe\">\n",
       "  <thead>\n",
       "    <tr style=\"text-align: right;\">\n",
       "      <th></th>\n",
       "      <th>Date/Time</th>\n",
       "      <th>Temp_C</th>\n",
       "      <th>Dew Point Temp_C</th>\n",
       "      <th>Rel Hum_%</th>\n",
       "      <th>Wind Speed_km/h</th>\n",
       "      <th>Visibility_km</th>\n",
       "      <th>Press_kPa</th>\n",
       "      <th>Weather</th>\n",
       "    </tr>\n",
       "  </thead>\n",
       "  <tbody>\n",
       "    <tr>\n",
       "      <th>0</th>\n",
       "      <td>1/1/2012 0:00</td>\n",
       "      <td>-1.8</td>\n",
       "      <td>-3.9</td>\n",
       "      <td>86</td>\n",
       "      <td>4</td>\n",
       "      <td>8.0</td>\n",
       "      <td>101.24</td>\n",
       "      <td>Fog</td>\n",
       "    </tr>\n",
       "    <tr>\n",
       "      <th>1</th>\n",
       "      <td>1/1/2012 1:00</td>\n",
       "      <td>-1.8</td>\n",
       "      <td>-3.7</td>\n",
       "      <td>87</td>\n",
       "      <td>4</td>\n",
       "      <td>8.0</td>\n",
       "      <td>101.24</td>\n",
       "      <td>Fog</td>\n",
       "    </tr>\n",
       "    <tr>\n",
       "      <th>2</th>\n",
       "      <td>1/1/2012 2:00</td>\n",
       "      <td>-1.8</td>\n",
       "      <td>-3.4</td>\n",
       "      <td>89</td>\n",
       "      <td>7</td>\n",
       "      <td>4.0</td>\n",
       "      <td>101.26</td>\n",
       "      <td>Freezing Drizzle,Fog</td>\n",
       "    </tr>\n",
       "    <tr>\n",
       "      <th>3</th>\n",
       "      <td>1/1/2012 3:00</td>\n",
       "      <td>-1.5</td>\n",
       "      <td>-3.2</td>\n",
       "      <td>88</td>\n",
       "      <td>6</td>\n",
       "      <td>4.0</td>\n",
       "      <td>101.27</td>\n",
       "      <td>Freezing Drizzle,Fog</td>\n",
       "    </tr>\n",
       "    <tr>\n",
       "      <th>4</th>\n",
       "      <td>1/1/2012 4:00</td>\n",
       "      <td>-1.5</td>\n",
       "      <td>-3.3</td>\n",
       "      <td>88</td>\n",
       "      <td>7</td>\n",
       "      <td>4.8</td>\n",
       "      <td>101.23</td>\n",
       "      <td>Fog</td>\n",
       "    </tr>\n",
       "    <tr>\n",
       "      <th>...</th>\n",
       "      <td>...</td>\n",
       "      <td>...</td>\n",
       "      <td>...</td>\n",
       "      <td>...</td>\n",
       "      <td>...</td>\n",
       "      <td>...</td>\n",
       "      <td>...</td>\n",
       "      <td>...</td>\n",
       "    </tr>\n",
       "    <tr>\n",
       "      <th>995</th>\n",
       "      <td>2/11/2012 11:00</td>\n",
       "      <td>-13.1</td>\n",
       "      <td>-18.8</td>\n",
       "      <td>62</td>\n",
       "      <td>11</td>\n",
       "      <td>24.1</td>\n",
       "      <td>101.03</td>\n",
       "      <td>Snow</td>\n",
       "    </tr>\n",
       "    <tr>\n",
       "      <th>996</th>\n",
       "      <td>2/11/2012 12:00</td>\n",
       "      <td>-12.8</td>\n",
       "      <td>-17.2</td>\n",
       "      <td>70</td>\n",
       "      <td>9</td>\n",
       "      <td>19.3</td>\n",
       "      <td>100.97</td>\n",
       "      <td>Snow</td>\n",
       "    </tr>\n",
       "    <tr>\n",
       "      <th>997</th>\n",
       "      <td>2/11/2012 13:00</td>\n",
       "      <td>-12.1</td>\n",
       "      <td>-16.4</td>\n",
       "      <td>70</td>\n",
       "      <td>7</td>\n",
       "      <td>24.1</td>\n",
       "      <td>100.85</td>\n",
       "      <td>Mostly Cloudy</td>\n",
       "    </tr>\n",
       "    <tr>\n",
       "      <th>998</th>\n",
       "      <td>2/11/2012 14:00</td>\n",
       "      <td>-11.3</td>\n",
       "      <td>-17.4</td>\n",
       "      <td>61</td>\n",
       "      <td>6</td>\n",
       "      <td>48.3</td>\n",
       "      <td>100.76</td>\n",
       "      <td>Mainly Clear</td>\n",
       "    </tr>\n",
       "    <tr>\n",
       "      <th>999</th>\n",
       "      <td>2/11/2012 15:00</td>\n",
       "      <td>-10.8</td>\n",
       "      <td>-18.8</td>\n",
       "      <td>52</td>\n",
       "      <td>11</td>\n",
       "      <td>48.3</td>\n",
       "      <td>100.73</td>\n",
       "      <td>Mainly Clear</td>\n",
       "    </tr>\n",
       "  </tbody>\n",
       "</table>\n",
       "<p>1000 rows × 8 columns</p>\n",
       "</div>"
      ],
      "text/plain": [
       "           Date/Time  Temp_C  Dew Point Temp_C  Rel Hum_%  Wind Speed_km/h  \\\n",
       "0      1/1/2012 0:00    -1.8              -3.9         86                4   \n",
       "1      1/1/2012 1:00    -1.8              -3.7         87                4   \n",
       "2      1/1/2012 2:00    -1.8              -3.4         89                7   \n",
       "3      1/1/2012 3:00    -1.5              -3.2         88                6   \n",
       "4      1/1/2012 4:00    -1.5              -3.3         88                7   \n",
       "..               ...     ...               ...        ...              ...   \n",
       "995  2/11/2012 11:00   -13.1             -18.8         62               11   \n",
       "996  2/11/2012 12:00   -12.8             -17.2         70                9   \n",
       "997  2/11/2012 13:00   -12.1             -16.4         70                7   \n",
       "998  2/11/2012 14:00   -11.3             -17.4         61                6   \n",
       "999  2/11/2012 15:00   -10.8             -18.8         52               11   \n",
       "\n",
       "     Visibility_km  Press_kPa               Weather  \n",
       "0              8.0     101.24                   Fog  \n",
       "1              8.0     101.24                   Fog  \n",
       "2              4.0     101.26  Freezing Drizzle,Fog  \n",
       "3              4.0     101.27  Freezing Drizzle,Fog  \n",
       "4              4.8     101.23                   Fog  \n",
       "..             ...        ...                   ...  \n",
       "995           24.1     101.03                  Snow  \n",
       "996           19.3     100.97                  Snow  \n",
       "997           24.1     100.85         Mostly Cloudy  \n",
       "998           48.3     100.76          Mainly Clear  \n",
       "999           48.3     100.73          Mainly Clear  \n",
       "\n",
       "[1000 rows x 8 columns]"
      ]
     },
     "execution_count": 4,
     "metadata": {},
     "output_type": "execute_result"
    }
   ],
   "source": [
    "data = pd.read_csv(r\"C:\\Users\\user\\Downloads\\1. Weather Data.csv\")\n",
    "#Displaying the first 5 rows of the data set.\n",
    "data.head(n = 1000)"
   ]
  },
  {
   "cell_type": "markdown",
   "id": "8a7e2e73-3740-4dfc-98b4-1034eaada663",
   "metadata": {},
   "source": [
    "<font size = +2>**Data Dictionary**</font>"
   ]
  },
  {
   "cell_type": "markdown",
   "id": "6954ef7f-9d2f-4dde-884d-c994a3526d2a",
   "metadata": {},
   "source": [
    "<font size=+0.5>Date/Time: Date and time of the weather.<br>\n",
    "Temp_C: Temperature record in celcius<br>\n",
    "Dew Point Temp_C: Dew point temperature of the weather.<br>\n",
    "Rel Hum_%: Relative Humidity of the temperature:<br>\n",
    "Wind Speed_km/h: The wind speed of the weather per hour.<br>\n",
    "Visibility_km: The appearance of a distant object against a contrasting background usually the sky.<br>\n",
    "Press_kpa: Pressure measurement of the weather.<br>\n",
    "Weather: The resulting weather condition for the day.</font>"
   ]
  },
  {
   "cell_type": "markdown",
   "id": "1784a54f-f89f-4c23-a8a6-785d8450f2f1",
   "metadata": {},
   "source": [
    "<font size = +1>**Exploratory Data Analysis**</font>"
   ]
  },
  {
   "cell_type": "code",
   "execution_count": 5,
   "id": "d11d59c6-1a5c-4734-973d-90abbdb8d791",
   "metadata": {},
   "outputs": [
    {
     "name": "stdout",
     "output_type": "stream",
     "text": [
      "<class 'pandas.core.frame.DataFrame'>\n",
      "RangeIndex: 8784 entries, 0 to 8783\n",
      "Data columns (total 8 columns):\n",
      " #   Column            Non-Null Count  Dtype  \n",
      "---  ------            --------------  -----  \n",
      " 0   Date/Time         8784 non-null   object \n",
      " 1   Temp_C            8784 non-null   float64\n",
      " 2   Dew Point Temp_C  8784 non-null   float64\n",
      " 3   Rel Hum_%         8784 non-null   int64  \n",
      " 4   Wind Speed_km/h   8784 non-null   int64  \n",
      " 5   Visibility_km     8784 non-null   float64\n",
      " 6   Press_kPa         8784 non-null   float64\n",
      " 7   Weather           8784 non-null   object \n",
      "dtypes: float64(4), int64(2), object(2)\n",
      "memory usage: 549.1+ KB\n"
     ]
    }
   ],
   "source": [
    "data.info()"
   ]
  },
  {
   "cell_type": "markdown",
   "id": "58950574-94ca-4874-a601-aed4c6d5fc4e",
   "metadata": {},
   "source": [
    "Our data info describes data type of each column, it also describes the null property of each cell in the data cell."
   ]
  },
  {
   "cell_type": "code",
   "execution_count": 6,
   "id": "cadb6961-431b-4ee0-8916-21386f8577e8",
   "metadata": {},
   "outputs": [
    {
     "data": {
      "text/html": [
       "<div>\n",
       "<style scoped>\n",
       "    .dataframe tbody tr th:only-of-type {\n",
       "        vertical-align: middle;\n",
       "    }\n",
       "\n",
       "    .dataframe tbody tr th {\n",
       "        vertical-align: top;\n",
       "    }\n",
       "\n",
       "    .dataframe thead th {\n",
       "        text-align: right;\n",
       "    }\n",
       "</style>\n",
       "<table border=\"1\" class=\"dataframe\">\n",
       "  <thead>\n",
       "    <tr style=\"text-align: right;\">\n",
       "      <th></th>\n",
       "      <th>Temp_C</th>\n",
       "      <th>Dew Point Temp_C</th>\n",
       "      <th>Rel Hum_%</th>\n",
       "      <th>Wind Speed_km/h</th>\n",
       "      <th>Visibility_km</th>\n",
       "      <th>Press_kPa</th>\n",
       "    </tr>\n",
       "  </thead>\n",
       "  <tbody>\n",
       "    <tr>\n",
       "      <th>count</th>\n",
       "      <td>8784.000000</td>\n",
       "      <td>8784.000000</td>\n",
       "      <td>8784.000000</td>\n",
       "      <td>8784.000000</td>\n",
       "      <td>8784.000000</td>\n",
       "      <td>8784.000000</td>\n",
       "    </tr>\n",
       "    <tr>\n",
       "      <th>mean</th>\n",
       "      <td>8.798144</td>\n",
       "      <td>2.555294</td>\n",
       "      <td>67.431694</td>\n",
       "      <td>14.945469</td>\n",
       "      <td>27.664447</td>\n",
       "      <td>101.051623</td>\n",
       "    </tr>\n",
       "    <tr>\n",
       "      <th>std</th>\n",
       "      <td>11.687883</td>\n",
       "      <td>10.883072</td>\n",
       "      <td>16.918881</td>\n",
       "      <td>8.688696</td>\n",
       "      <td>12.622688</td>\n",
       "      <td>0.844005</td>\n",
       "    </tr>\n",
       "    <tr>\n",
       "      <th>min</th>\n",
       "      <td>-23.300000</td>\n",
       "      <td>-28.500000</td>\n",
       "      <td>18.000000</td>\n",
       "      <td>0.000000</td>\n",
       "      <td>0.200000</td>\n",
       "      <td>97.520000</td>\n",
       "    </tr>\n",
       "    <tr>\n",
       "      <th>25%</th>\n",
       "      <td>0.100000</td>\n",
       "      <td>-5.900000</td>\n",
       "      <td>56.000000</td>\n",
       "      <td>9.000000</td>\n",
       "      <td>24.100000</td>\n",
       "      <td>100.560000</td>\n",
       "    </tr>\n",
       "    <tr>\n",
       "      <th>50%</th>\n",
       "      <td>9.300000</td>\n",
       "      <td>3.300000</td>\n",
       "      <td>68.000000</td>\n",
       "      <td>13.000000</td>\n",
       "      <td>25.000000</td>\n",
       "      <td>101.070000</td>\n",
       "    </tr>\n",
       "    <tr>\n",
       "      <th>75%</th>\n",
       "      <td>18.800000</td>\n",
       "      <td>11.800000</td>\n",
       "      <td>81.000000</td>\n",
       "      <td>20.000000</td>\n",
       "      <td>25.000000</td>\n",
       "      <td>101.590000</td>\n",
       "    </tr>\n",
       "    <tr>\n",
       "      <th>max</th>\n",
       "      <td>33.000000</td>\n",
       "      <td>24.400000</td>\n",
       "      <td>100.000000</td>\n",
       "      <td>83.000000</td>\n",
       "      <td>48.300000</td>\n",
       "      <td>103.650000</td>\n",
       "    </tr>\n",
       "  </tbody>\n",
       "</table>\n",
       "</div>"
      ],
      "text/plain": [
       "            Temp_C  Dew Point Temp_C    Rel Hum_%  Wind Speed_km/h  \\\n",
       "count  8784.000000       8784.000000  8784.000000      8784.000000   \n",
       "mean      8.798144          2.555294    67.431694        14.945469   \n",
       "std      11.687883         10.883072    16.918881         8.688696   \n",
       "min     -23.300000        -28.500000    18.000000         0.000000   \n",
       "25%       0.100000         -5.900000    56.000000         9.000000   \n",
       "50%       9.300000          3.300000    68.000000        13.000000   \n",
       "75%      18.800000         11.800000    81.000000        20.000000   \n",
       "max      33.000000         24.400000   100.000000        83.000000   \n",
       "\n",
       "       Visibility_km    Press_kPa  \n",
       "count    8784.000000  8784.000000  \n",
       "mean       27.664447   101.051623  \n",
       "std        12.622688     0.844005  \n",
       "min         0.200000    97.520000  \n",
       "25%        24.100000   100.560000  \n",
       "50%        25.000000   101.070000  \n",
       "75%        25.000000   101.590000  \n",
       "max        48.300000   103.650000  "
      ]
     },
     "execution_count": 6,
     "metadata": {},
     "output_type": "execute_result"
    }
   ],
   "source": [
    "data.describe()"
   ]
  },
  {
   "cell_type": "markdown",
   "id": "476d720a-494f-4457-9f60-46bf4fadb28d",
   "metadata": {},
   "source": [
    "Describe function describes the statistical properties of the numerical columns, Press_kPa and Rel Hum have values \n",
    "greater than other columns which we will handle later on by standardizing these columns before training with our model."
   ]
  },
  {
   "cell_type": "code",
   "execution_count": 7,
   "id": "8cf7c0c2-fced-406d-94cc-5a7c6d032aca",
   "metadata": {},
   "outputs": [
    {
     "data": {
      "text/plain": [
       "Date/Time           8784\n",
       "Temp_C               533\n",
       "Dew Point Temp_C     489\n",
       "Rel Hum_%             83\n",
       "Wind Speed_km/h       34\n",
       "Visibility_km         24\n",
       "Press_kPa            518\n",
       "Weather               50\n",
       "dtype: int64"
      ]
     },
     "execution_count": 7,
     "metadata": {},
     "output_type": "execute_result"
    }
   ],
   "source": [
    "data.nunique()"
   ]
  },
  {
   "cell_type": "markdown",
   "id": "ee88445a-d54c-4d50-b2b2-fa385f009553",
   "metadata": {},
   "source": [
    "Total count for unique values in each column."
   ]
  },
  {
   "cell_type": "code",
   "execution_count": 8,
   "id": "2ced73da-8ab3-47cc-94f3-5e7d6b822c48",
   "metadata": {},
   "outputs": [
    {
     "data": {
      "text/plain": [
       "0       False\n",
       "1       False\n",
       "2       False\n",
       "3       False\n",
       "4       False\n",
       "        ...  \n",
       "8779    False\n",
       "8780    False\n",
       "8781    False\n",
       "8782    False\n",
       "8783    False\n",
       "Length: 8784, dtype: bool"
      ]
     },
     "execution_count": 8,
     "metadata": {},
     "output_type": "execute_result"
    }
   ],
   "source": [
    "#checking to see if our datasets has any duplicate value.\n",
    "data.duplicated()"
   ]
  },
  {
   "cell_type": "markdown",
   "id": "bc6f299f-e336-486e-bd07-16f857068fc7",
   "metadata": {},
   "source": [
    "This determines if our data has duplicated values."
   ]
  },
  {
   "cell_type": "markdown",
   "id": "88b4e0b6-6155-4e9c-9b39-dd2ba77dc166",
   "metadata": {},
   "source": [
    "<font size = +1>**Quantitative Analysis**</font>"
   ]
  },
  {
   "cell_type": "code",
   "execution_count": 9,
   "id": "a89268c4-649c-476c-88e5-c2eca2641311",
   "metadata": {},
   "outputs": [
    {
     "name": "stdout",
     "output_type": "stream",
     "text": [
      "Index(['Temp_C', 'Dew Point Temp_C', 'Rel Hum_%', 'Wind Speed_km/h',\n",
      "       'Visibility_km', 'Press_kPa'],\n",
      "      dtype='object')\n"
     ]
    }
   ],
   "source": [
    "#Quantitative variables:\n",
    "quantitative = data.select_dtypes(include = [\"int64\",\"float64\"]).keys()\n",
    "print(quantitative)"
   ]
  },
  {
   "cell_type": "code",
   "execution_count": 10,
   "id": "f9873b8f-ad87-40ca-a334-62c7d207e75b",
   "metadata": {},
   "outputs": [
    {
     "data": {
      "text/html": [
       "<div>\n",
       "<style scoped>\n",
       "    .dataframe tbody tr th:only-of-type {\n",
       "        vertical-align: middle;\n",
       "    }\n",
       "\n",
       "    .dataframe tbody tr th {\n",
       "        vertical-align: top;\n",
       "    }\n",
       "\n",
       "    .dataframe thead th {\n",
       "        text-align: right;\n",
       "    }\n",
       "</style>\n",
       "<table border=\"1\" class=\"dataframe\">\n",
       "  <thead>\n",
       "    <tr style=\"text-align: right;\">\n",
       "      <th></th>\n",
       "      <th>Temp_C</th>\n",
       "      <th>Dew Point Temp_C</th>\n",
       "      <th>Rel Hum_%</th>\n",
       "      <th>Wind Speed_km/h</th>\n",
       "      <th>Visibility_km</th>\n",
       "      <th>Press_kPa</th>\n",
       "    </tr>\n",
       "  </thead>\n",
       "  <tbody>\n",
       "    <tr>\n",
       "      <th>count</th>\n",
       "      <td>8784.000000</td>\n",
       "      <td>8784.000000</td>\n",
       "      <td>8784.000000</td>\n",
       "      <td>8784.000000</td>\n",
       "      <td>8784.000000</td>\n",
       "      <td>8784.000000</td>\n",
       "    </tr>\n",
       "    <tr>\n",
       "      <th>mean</th>\n",
       "      <td>8.798144</td>\n",
       "      <td>2.555294</td>\n",
       "      <td>67.431694</td>\n",
       "      <td>14.945469</td>\n",
       "      <td>27.664447</td>\n",
       "      <td>101.051623</td>\n",
       "    </tr>\n",
       "    <tr>\n",
       "      <th>std</th>\n",
       "      <td>11.687883</td>\n",
       "      <td>10.883072</td>\n",
       "      <td>16.918881</td>\n",
       "      <td>8.688696</td>\n",
       "      <td>12.622688</td>\n",
       "      <td>0.844005</td>\n",
       "    </tr>\n",
       "    <tr>\n",
       "      <th>min</th>\n",
       "      <td>-23.300000</td>\n",
       "      <td>-28.500000</td>\n",
       "      <td>18.000000</td>\n",
       "      <td>0.000000</td>\n",
       "      <td>0.200000</td>\n",
       "      <td>97.520000</td>\n",
       "    </tr>\n",
       "    <tr>\n",
       "      <th>25%</th>\n",
       "      <td>0.100000</td>\n",
       "      <td>-5.900000</td>\n",
       "      <td>56.000000</td>\n",
       "      <td>9.000000</td>\n",
       "      <td>24.100000</td>\n",
       "      <td>100.560000</td>\n",
       "    </tr>\n",
       "    <tr>\n",
       "      <th>50%</th>\n",
       "      <td>9.300000</td>\n",
       "      <td>3.300000</td>\n",
       "      <td>68.000000</td>\n",
       "      <td>13.000000</td>\n",
       "      <td>25.000000</td>\n",
       "      <td>101.070000</td>\n",
       "    </tr>\n",
       "    <tr>\n",
       "      <th>75%</th>\n",
       "      <td>18.800000</td>\n",
       "      <td>11.800000</td>\n",
       "      <td>81.000000</td>\n",
       "      <td>20.000000</td>\n",
       "      <td>25.000000</td>\n",
       "      <td>101.590000</td>\n",
       "    </tr>\n",
       "    <tr>\n",
       "      <th>max</th>\n",
       "      <td>33.000000</td>\n",
       "      <td>24.400000</td>\n",
       "      <td>100.000000</td>\n",
       "      <td>83.000000</td>\n",
       "      <td>48.300000</td>\n",
       "      <td>103.650000</td>\n",
       "    </tr>\n",
       "  </tbody>\n",
       "</table>\n",
       "</div>"
      ],
      "text/plain": [
       "            Temp_C  Dew Point Temp_C    Rel Hum_%  Wind Speed_km/h  \\\n",
       "count  8784.000000       8784.000000  8784.000000      8784.000000   \n",
       "mean      8.798144          2.555294    67.431694        14.945469   \n",
       "std      11.687883         10.883072    16.918881         8.688696   \n",
       "min     -23.300000        -28.500000    18.000000         0.000000   \n",
       "25%       0.100000         -5.900000    56.000000         9.000000   \n",
       "50%       9.300000          3.300000    68.000000        13.000000   \n",
       "75%      18.800000         11.800000    81.000000        20.000000   \n",
       "max      33.000000         24.400000   100.000000        83.000000   \n",
       "\n",
       "       Visibility_km    Press_kPa  \n",
       "count    8784.000000  8784.000000  \n",
       "mean       27.664447   101.051623  \n",
       "std        12.622688     0.844005  \n",
       "min         0.200000    97.520000  \n",
       "25%        24.100000   100.560000  \n",
       "50%        25.000000   101.070000  \n",
       "75%        25.000000   101.590000  \n",
       "max        48.300000   103.650000  "
      ]
     },
     "execution_count": 10,
     "metadata": {},
     "output_type": "execute_result"
    }
   ],
   "source": [
    "data[quantitative].describe()"
   ]
  },
  {
   "cell_type": "markdown",
   "id": "7ddd5b46-ce19-4387-bb51-15ad04a2d74b",
   "metadata": {},
   "source": [
    "<font size = +1>**Correlation between our columns**</font>"
   ]
  },
  {
   "cell_type": "code",
   "execution_count": 184,
   "id": "d6b2985e-c0fb-4813-933c-c699edbb1637",
   "metadata": {},
   "outputs": [
    {
     "data": {
      "text/html": [
       "<div>\n",
       "<style scoped>\n",
       "    .dataframe tbody tr th:only-of-type {\n",
       "        vertical-align: middle;\n",
       "    }\n",
       "\n",
       "    .dataframe tbody tr th {\n",
       "        vertical-align: top;\n",
       "    }\n",
       "\n",
       "    .dataframe thead th {\n",
       "        text-align: right;\n",
       "    }\n",
       "</style>\n",
       "<table border=\"1\" class=\"dataframe\">\n",
       "  <thead>\n",
       "    <tr style=\"text-align: right;\">\n",
       "      <th></th>\n",
       "      <th>Temp_C</th>\n",
       "      <th>Dew Point Temp_C</th>\n",
       "      <th>Rel Hum_%</th>\n",
       "      <th>Wind Speed_km/h</th>\n",
       "      <th>Visibility_km</th>\n",
       "      <th>Press_kPa</th>\n",
       "    </tr>\n",
       "  </thead>\n",
       "  <tbody>\n",
       "    <tr>\n",
       "      <th>Temp_C</th>\n",
       "      <td>1.000000</td>\n",
       "      <td>0.932714</td>\n",
       "      <td>-0.220182</td>\n",
       "      <td>-0.061876</td>\n",
       "      <td>0.273455</td>\n",
       "      <td>-0.236389</td>\n",
       "    </tr>\n",
       "    <tr>\n",
       "      <th>Dew Point Temp_C</th>\n",
       "      <td>0.932714</td>\n",
       "      <td>1.000000</td>\n",
       "      <td>0.139494</td>\n",
       "      <td>-0.095685</td>\n",
       "      <td>0.050813</td>\n",
       "      <td>-0.320616</td>\n",
       "    </tr>\n",
       "    <tr>\n",
       "      <th>Rel Hum_%</th>\n",
       "      <td>-0.220182</td>\n",
       "      <td>0.139494</td>\n",
       "      <td>1.000000</td>\n",
       "      <td>-0.092743</td>\n",
       "      <td>-0.633683</td>\n",
       "      <td>-0.231424</td>\n",
       "    </tr>\n",
       "    <tr>\n",
       "      <th>Wind Speed_km/h</th>\n",
       "      <td>-0.061876</td>\n",
       "      <td>-0.095685</td>\n",
       "      <td>-0.092743</td>\n",
       "      <td>1.000000</td>\n",
       "      <td>0.004883</td>\n",
       "      <td>-0.356613</td>\n",
       "    </tr>\n",
       "    <tr>\n",
       "      <th>Visibility_km</th>\n",
       "      <td>0.273455</td>\n",
       "      <td>0.050813</td>\n",
       "      <td>-0.633683</td>\n",
       "      <td>0.004883</td>\n",
       "      <td>1.000000</td>\n",
       "      <td>0.231847</td>\n",
       "    </tr>\n",
       "    <tr>\n",
       "      <th>Press_kPa</th>\n",
       "      <td>-0.236389</td>\n",
       "      <td>-0.320616</td>\n",
       "      <td>-0.231424</td>\n",
       "      <td>-0.356613</td>\n",
       "      <td>0.231847</td>\n",
       "      <td>1.000000</td>\n",
       "    </tr>\n",
       "  </tbody>\n",
       "</table>\n",
       "</div>"
      ],
      "text/plain": [
       "                    Temp_C  Dew Point Temp_C  Rel Hum_%  Wind Speed_km/h  \\\n",
       "Temp_C            1.000000          0.932714  -0.220182        -0.061876   \n",
       "Dew Point Temp_C  0.932714          1.000000   0.139494        -0.095685   \n",
       "Rel Hum_%        -0.220182          0.139494   1.000000        -0.092743   \n",
       "Wind Speed_km/h  -0.061876         -0.095685  -0.092743         1.000000   \n",
       "Visibility_km     0.273455          0.050813  -0.633683         0.004883   \n",
       "Press_kPa        -0.236389         -0.320616  -0.231424        -0.356613   \n",
       "\n",
       "                  Visibility_km  Press_kPa  \n",
       "Temp_C                 0.273455  -0.236389  \n",
       "Dew Point Temp_C       0.050813  -0.320616  \n",
       "Rel Hum_%             -0.633683  -0.231424  \n",
       "Wind Speed_km/h        0.004883  -0.356613  \n",
       "Visibility_km          1.000000   0.231847  \n",
       "Press_kPa              0.231847   1.000000  "
      ]
     },
     "execution_count": 184,
     "metadata": {},
     "output_type": "execute_result"
    }
   ],
   "source": [
    "data.corr()"
   ]
  },
  {
   "cell_type": "markdown",
   "id": "09b605cc-d43a-465f-af0d-0f188f1fe42f",
   "metadata": {},
   "source": [
    "<font size = +2>Plot "
   ]
  },
  {
   "cell_type": "code",
   "execution_count": 11,
   "id": "747f5412-f9cf-4a60-bb22-7c3463d57ef1",
   "metadata": {},
   "outputs": [],
   "source": [
    "from matplotlib.pyplot import rcParams"
   ]
  },
  {
   "cell_type": "code",
   "execution_count": 12,
   "id": "1979f50c-e999-4f29-ad9d-62f50f9bcb2c",
   "metadata": {},
   "outputs": [
    {
     "data": {
      "text/plain": [
       "array([[<AxesSubplot:title={'center':'Temp_C'}>,\n",
       "        <AxesSubplot:title={'center':'Dew Point Temp_C'}>],\n",
       "       [<AxesSubplot:title={'center':'Rel Hum_%'}>,\n",
       "        <AxesSubplot:title={'center':'Wind Speed_km/h'}>],\n",
       "       [<AxesSubplot:title={'center':'Visibility_km'}>,\n",
       "        <AxesSubplot:title={'center':'Press_kPa'}>]], dtype=object)"
      ]
     },
     "execution_count": 12,
     "metadata": {},
     "output_type": "execute_result"
    },
    {
     "data": {
      "image/png": "[encoded data removed]",
      "text/plain": [
       "<Figure size 648x648 with 6 Axes>"
      ]
     },
     "metadata": {
      "needs_background": "light"
     },
     "output_type": "display_data"
    }
   ],
   "source": [
    "rcParams['figure.figsize'] = 9, 9\n",
    "data[quantitative].hist()"
   ]
  },
  {
   "cell_type": "code",
   "execution_count": 13,
   "id": "4b65006a-4cda-4b6e-bdad-9acf5f4aacbb",
   "metadata": {},
   "outputs": [
    {
     "data": {
      "text/plain": [
       "Mainly Clear                               2106\n",
       "Mostly Cloudy                              2069\n",
       "Cloudy                                     1728\n",
       "Clear                                      1326\n",
       "Snow                                        390\n",
       "Rain                                        306\n",
       "Rain Showers                                188\n",
       "Fog                                         150\n",
       "Rain,Fog                                    116\n",
       "Drizzle,Fog                                  80\n",
       "Snow Showers                                 60\n",
       "Drizzle                                      41\n",
       "Snow,Fog                                     37\n",
       "Snow,Blowing Snow                            19\n",
       "Rain,Snow                                    18\n",
       "Thunderstorms,Rain Showers                   16\n",
       "Haze                                         16\n",
       "Drizzle,Snow,Fog                             15\n",
       "Freezing Rain                                14\n",
       "Freezing Drizzle,Snow                        11\n",
       "Freezing Drizzle                              7\n",
       "Snow,Ice Pellets                              6\n",
       "Freezing Drizzle,Fog                          6\n",
       "Snow,Haze                                     5\n",
       "Freezing Fog                                  4\n",
       "Snow Showers,Fog                              4\n",
       "Moderate Snow                                 4\n",
       "Rain,Snow,Ice Pellets                         4\n",
       "Freezing Rain,Fog                             4\n",
       "Freezing Drizzle,Haze                         3\n",
       "Rain,Haze                                     3\n",
       "Thunderstorms,Rain                            3\n",
       "Thunderstorms,Rain Showers,Fog                3\n",
       "Freezing Rain,Haze                            2\n",
       "Drizzle,Snow                                  2\n",
       "Rain Showers,Snow Showers                     2\n",
       "Thunderstorms                                 2\n",
       "Moderate Snow,Blowing Snow                    2\n",
       "Rain Showers,Fog                              1\n",
       "Thunderstorms,Moderate Rain Showers,Fog       1\n",
       "Snow Pellets                                  1\n",
       "Rain,Snow,Fog                                 1\n",
       "Moderate Rain,Fog                             1\n",
       "Freezing Rain,Ice Pellets,Fog                 1\n",
       "Drizzle,Ice Pellets,Fog                       1\n",
       "Thunderstorms,Rain,Fog                        1\n",
       "Rain,Ice Pellets                              1\n",
       "Rain,Snow Grains                              1\n",
       "Thunderstorms,Heavy Rain Showers              1\n",
       "Freezing Rain,Snow Grains                     1\n",
       "Name: Weather, dtype: int64"
      ]
     },
     "execution_count": 13,
     "metadata": {},
     "output_type": "execute_result"
    }
   ],
   "source": [
    "#Let's examine the weather column we are trying to predict and also the value count of each value in the column\n",
    "data['Weather'].value_counts()"
   ]
  },
  {
   "cell_type": "code",
   "execution_count": 37,
   "id": "098299e4-85bb-4043-998f-c699e8c48b81",
   "metadata": {},
   "outputs": [
    {
     "data": {
      "text/plain": [
       "Cloudy                   3797\n",
       "Clear                    3432\n",
       "Rain                      689\n",
       "Snow                      556\n",
       "Fog                       241\n",
       "Drizzle                    41\n",
       "Haze                       16\n",
       "Freezing Drizzle            7\n",
       "Freezing Drizzle,Haze       3\n",
       "Thunderstorms               2\n",
       "Name: Weather, dtype: int64"
      ]
     },
     "execution_count": 37,
     "metadata": {},
     "output_type": "execute_result"
    }
   ],
   "source": [
    "data.loc[data['Weather'].str.lower().str.contains('rain'), 'Weather'] = 'Rain'\n",
    "data.loc[data['Weather'].str.lower().str.contains('snow'), 'Weather'] = 'Snow'\n",
    "data.loc[data['Weather'].str.lower().str.contains('fog'), 'Weather'] = 'Fog'\n",
    "data.loc[data['Weather'].str.lower().str.contains('clear'), 'Weather'] = 'Clear'\n",
    "data.loc[data['Weather'].str.lower().str.contains('cloudy'), 'Weather'] = 'Cloudy'\n",
    "data.Weather.value_counts()"
   ]
  },
  {
   "cell_type": "markdown",
   "id": "68faaf91-de7f-4ab4-82f9-4e24b8ac5a6a",
   "metadata": {},
   "source": [
    "**Weather column has a high cardinality of 50 which are not distributed evenly with some values appearing just once. This will pose a problem for our models because some values won't appear while training the models with our data. To navigate this problem we will reclassify the weather column into 4 different cardinals.**"
   ]
  },
  {
   "cell_type": "code",
   "execution_count": 38,
   "id": "078737fd-25c6-4ce9-b152-a9fd26fe737d",
   "metadata": {},
   "outputs": [
    {
     "name": "stdout",
     "output_type": "stream",
     "text": [
      "['Date/Time']\n"
     ]
    }
   ],
   "source": [
    "#We can also confirm the cardinality of other columns that are equal or greater than 50 \n",
    "max_cardinality = 50\n",
    "high_cardinality = [col for col in data.select_dtypes(exclude=np.number)\n",
    "                   if data[col].nunique() >= max_cardinality]\n",
    "print(high_cardinality)"
   ]
  },
  {
   "cell_type": "markdown",
   "id": "d2279caa-7c35-4194-a17a-0fbee21ee2d6",
   "metadata": {},
   "source": [
    "Date/Time and Weather are the only columns with cardinality numbering 50 or more. Since Date/Time is has no effect on our prediction, there won't be of any benefit since they won't be affecting our dataset."
   ]
  },
  {
   "cell_type": "markdown",
   "id": "e967316e-aee6-4c1d-8265-179741711ad3",
   "metadata": {},
   "source": [
    "<font size = +1>***Regrouping Weather column***</font>"
   ]
  },
  {
   "cell_type": "markdown",
   "id": "c523649e-fafd-4337-b43c-bb42d019aef9",
   "metadata": {},
   "source": [
    "The library needed to perform this will be imported after which a function is defined to perform the regrouping."
   ]
  },
  {
   "cell_type": "code",
   "execution_count": 39,
   "id": "af7aed62-b204-478f-a3ac-b5728d328b1e",
   "metadata": {},
   "outputs": [],
   "source": [
    "#To do this we have to import Counter from the collection library\n",
    "from collections import Counter"
   ]
  },
  {
   "cell_type": "markdown",
   "id": "3b27c4b8-7b6c-418d-a5fa-e1092e871a4a",
   "metadata": {},
   "source": [
    "The function(re_categorize) will return a new column bearing names of the previous values that falls under the threshold and other names outside the threshold will bear others, it will also return a category list whcih will be dependent on the boolean parameter."
   ]
  },
  {
   "cell_type": "code",
   "execution_count": 40,
   "id": "39b09711-ce51-4481-9240-012dc60af08d",
   "metadata": {},
   "outputs": [
    {
     "name": "stdout",
     "output_type": "stream",
     "text": [
      "0    Other\n",
      "1    Other\n",
      "2    Other\n",
      "3    Other\n",
      "4    Other\n",
      "Name: Weather, dtype: object ['Cloudy', 'Clear', 'Rain', 'Other']\n"
     ]
    }
   ],
   "source": [
    "def re_categorize(column, threshold = 0.90, return_category = True):\n",
    "    \n",
    "    #The threshold_value is the total number of values in the column\n",
    "    threshold_value = int(threshold*len(column))\n",
    "    \n",
    "    #initialize a category_list for our new values.\n",
    "    category_list = []\n",
    "    \n",
    "    #instantiate a variable that will be used to calculate the sum of frequencies\n",
    "    x = 0\n",
    "    #Create a counter dictionary for the from unique_value: frequency\n",
    "    count = Counter(column)\n",
    "    \n",
    "    \n",
    "    #next a for loop is defined to iterate through the count values and frequency while \n",
    "    #sorting it using the frequency in the order of descending\n",
    "    for i,j in count.most_common():\n",
    "        #sum up the frequency of the value and instance of x\n",
    "        x+= dict(count)[i]\n",
    "        \n",
    "        #append the category name to the list.\n",
    "        category_list.append(i)\n",
    "        \n",
    "        #check to confirm that the instance x is not higher than the threshold, if it is higher you break.\n",
    "        if x >= threshold_value:\n",
    "            break\n",
    "    #Append the value Other to the category_list\n",
    "    category_list.append('Other')\n",
    "    \n",
    "    #Next we replace all instances not in our category_list with Other using apply and lambda functions\n",
    "    new_column = column.apply(lambda x: x if x in category_list else 'Other')\n",
    "    \n",
    "    #We return the new_column and category_list if the boolean value is True else we return only new_column\n",
    "    if return_category:\n",
    "        return new_column, category_list\n",
    "    else:\n",
    "        return new_column\n",
    "\n",
    "#Call the function with a default threshold of 75% assigning the values to two variables.\n",
    "transformed_column, new_category_list = re_categorize(data['Weather'])\n",
    "\n",
    "\n",
    "#display the newly transformed column and category list.\n",
    "print(transformed_column.head(), new_category_list)"
   ]
  },
  {
   "cell_type": "code",
   "execution_count": 69,
   "id": "6b8cae86-e862-49ed-a7bd-4eaba4e1daa2",
   "metadata": {},
   "outputs": [
    {
     "data": {
      "text/html": [
       "<div>\n",
       "<style scoped>\n",
       "    .dataframe tbody tr th:only-of-type {\n",
       "        vertical-align: middle;\n",
       "    }\n",
       "\n",
       "    .dataframe tbody tr th {\n",
       "        vertical-align: top;\n",
       "    }\n",
       "\n",
       "    .dataframe thead th {\n",
       "        text-align: right;\n",
       "    }\n",
       "</style>\n",
       "<table border=\"1\" class=\"dataframe\">\n",
       "  <thead>\n",
       "    <tr style=\"text-align: right;\">\n",
       "      <th></th>\n",
       "      <th>Date/Time</th>\n",
       "      <th>Temp_C</th>\n",
       "      <th>Dew Point Temp_C</th>\n",
       "      <th>Rel Hum_%</th>\n",
       "      <th>Wind Speed_km/h</th>\n",
       "      <th>Visibility_km</th>\n",
       "      <th>Press_kPa</th>\n",
       "      <th>Weather</th>\n",
       "      <th>New_Weather</th>\n",
       "    </tr>\n",
       "  </thead>\n",
       "  <tbody>\n",
       "    <tr>\n",
       "      <th>0</th>\n",
       "      <td>1/1/2012 0:00</td>\n",
       "      <td>-1.8</td>\n",
       "      <td>-3.9</td>\n",
       "      <td>86</td>\n",
       "      <td>4</td>\n",
       "      <td>8.0</td>\n",
       "      <td>101.24</td>\n",
       "      <td>Fog</td>\n",
       "      <td>Other</td>\n",
       "    </tr>\n",
       "    <tr>\n",
       "      <th>1</th>\n",
       "      <td>1/1/2012 1:00</td>\n",
       "      <td>-1.8</td>\n",
       "      <td>-3.7</td>\n",
       "      <td>87</td>\n",
       "      <td>4</td>\n",
       "      <td>8.0</td>\n",
       "      <td>101.24</td>\n",
       "      <td>Fog</td>\n",
       "      <td>Other</td>\n",
       "    </tr>\n",
       "    <tr>\n",
       "      <th>2</th>\n",
       "      <td>1/1/2012 2:00</td>\n",
       "      <td>-1.8</td>\n",
       "      <td>-3.4</td>\n",
       "      <td>89</td>\n",
       "      <td>7</td>\n",
       "      <td>4.0</td>\n",
       "      <td>101.26</td>\n",
       "      <td>Fog</td>\n",
       "      <td>Other</td>\n",
       "    </tr>\n",
       "    <tr>\n",
       "      <th>3</th>\n",
       "      <td>1/1/2012 3:00</td>\n",
       "      <td>-1.5</td>\n",
       "      <td>-3.2</td>\n",
       "      <td>88</td>\n",
       "      <td>6</td>\n",
       "      <td>4.0</td>\n",
       "      <td>101.27</td>\n",
       "      <td>Fog</td>\n",
       "      <td>Other</td>\n",
       "    </tr>\n",
       "    <tr>\n",
       "      <th>4</th>\n",
       "      <td>1/1/2012 4:00</td>\n",
       "      <td>-1.5</td>\n",
       "      <td>-3.3</td>\n",
       "      <td>88</td>\n",
       "      <td>7</td>\n",
       "      <td>4.8</td>\n",
       "      <td>101.23</td>\n",
       "      <td>Fog</td>\n",
       "      <td>Other</td>\n",
       "    </tr>\n",
       "  </tbody>\n",
       "</table>\n",
       "</div>"
      ],
      "text/plain": [
       "       Date/Time  Temp_C  Dew Point Temp_C  Rel Hum_%  Wind Speed_km/h  \\\n",
       "0  1/1/2012 0:00    -1.8              -3.9         86                4   \n",
       "1  1/1/2012 1:00    -1.8              -3.7         87                4   \n",
       "2  1/1/2012 2:00    -1.8              -3.4         89                7   \n",
       "3  1/1/2012 3:00    -1.5              -3.2         88                6   \n",
       "4  1/1/2012 4:00    -1.5              -3.3         88                7   \n",
       "\n",
       "   Visibility_km  Press_kPa Weather New_Weather  \n",
       "0            8.0     101.24     Fog       Other  \n",
       "1            8.0     101.24     Fog       Other  \n",
       "2            4.0     101.26     Fog       Other  \n",
       "3            4.0     101.27     Fog       Other  \n",
       "4            4.8     101.23     Fog       Other  "
      ]
     },
     "execution_count": 69,
     "metadata": {},
     "output_type": "execute_result"
    }
   ],
   "source": [
    "#assign the values from the transformed_column to the data sets after which we will conduct a prelimary test to see if they match each row.\n",
    "data['New_Weather'] = transformed_column\n",
    "data.head()"
   ]
  },
  {
   "cell_type": "code",
   "execution_count": 42,
   "id": "06134900-142c-405f-b381-45bd3972ca09",
   "metadata": {},
   "outputs": [
    {
     "data": {
      "text/plain": [
       "Cloudy    3797\n",
       "Clear     3432\n",
       "Other      866\n",
       "Rain       689\n",
       "Name: New_Weather, dtype: int64"
      ]
     },
     "execution_count": 42,
     "metadata": {},
     "output_type": "execute_result"
    }
   ],
   "source": [
    "#Check the value counts of the values in our new weather column\n",
    "data.New_Weather.value_counts()"
   ]
  },
  {
   "cell_type": "markdown",
   "id": "9670abf7-a98b-490b-a83d-3a6694e35f63",
   "metadata": {},
   "source": [
    "Categorical Variable"
   ]
  },
  {
   "cell_type": "code",
   "execution_count": 187,
   "id": "a6aabee9-acfe-4716-bb5f-d46229021a98",
   "metadata": {},
   "outputs": [
    {
     "data": {
      "text/plain": [
       "<AxesSubplot:xlabel='count', ylabel='New_Weather'>"
      ]
     },
     "execution_count": 187,
     "metadata": {},
     "output_type": "execute_result"
    },
    {
     "data": {
      "image/png": "[encoded data removed]",
      "text/plain": [
       "<Figure size 648x360 with 1 Axes>"
      ]
     },
     "metadata": {
      "needs_background": "light"
     },
     "output_type": "display_data"
    }
   ],
   "source": [
    "rcParams['figure.figsize'] = 9, 5\n",
    "sns.countplot(y=data['New_Weather'])"
   ]
  },
  {
   "cell_type": "markdown",
   "id": "b46760e8-0d5c-4b1b-90c0-63455b8d5272",
   "metadata": {},
   "source": [
    "Scale the numerical values in the feature column"
   ]
  },
  {
   "cell_type": "code",
   "execution_count": 71,
   "id": "788fee6c-9544-4810-b3d8-328d6c83aeea",
   "metadata": {},
   "outputs": [],
   "source": [
    "#import library used in scaling\n",
    "from sklearn import preprocessing as pr\n",
    "from sklearn.preprocessing import StandardScaler"
   ]
  },
  {
   "cell_type": "code",
   "execution_count": 180,
   "id": "81bcde8c-29ca-41e4-a479-8baa0a02226e",
   "metadata": {},
   "outputs": [
    {
     "name": "stdout",
     "output_type": "stream",
     "text": [
      "[[-0.90681502 -0.59318371  1.09755264 -1.25980838 -1.55795388  0.22320647]\n",
      " [-0.90681502 -0.5748055   1.15666157 -1.25980838 -1.55795388  0.22320647]\n",
      " [-0.90681502 -0.54723818  1.27487942 -0.91451252 -1.87486163  0.24690437]\n",
      " ...\n",
      " [-0.79558239 -0.37264519  1.51131513  1.5025585  -1.81148008 -1.30530797]\n",
      " [-0.76991332 -0.40021251  1.27487942  1.5025585  -1.42326809 -1.35270376]\n",
      " [-0.7528006  -0.42777982  1.09755264  1.73275574 -1.29650499 -1.37640166]]\n"
     ]
    }
   ],
   "source": [
    "#Scale the values in the feature columns so they can be easier to compare \n",
    "features = data[['Temp_C', 'Dew Point Temp_C', 'Rel Hum_%', 'Wind Speed_km/h', 'Visibility_km', 'Press_kPa']]\n",
    "\n",
    "x_scaled = pr.scale(features)\n",
    "x = x_scaled\n",
    "print(x.view())"
   ]
  },
  {
   "cell_type": "code",
   "execution_count": 181,
   "id": "bd345dbf-c154-4f70-ba9d-c292e16c10f9",
   "metadata": {},
   "outputs": [],
   "source": [
    "#Instantiate Y with the label column\n",
    "y = data['New_Weather']"
   ]
  },
  {
   "cell_type": "markdown",
   "id": "348548c7-88ec-4dd6-9cc6-3bccc4d11105",
   "metadata": {},
   "source": [
    " "
   ]
  },
  {
   "cell_type": "markdown",
   "id": "49d8487a-e97e-4095-a598-e006b1c10e17",
   "metadata": {},
   "source": [
    "<font size = +2>**Machine Learning Libraries**</font>"
   ]
  },
  {
   "cell_type": "code",
   "execution_count": 169,
   "id": "9198be54-0465-44ac-9e58-bdcd546a9ab3",
   "metadata": {},
   "outputs": [],
   "source": [
    "#Import the libraries needed to create and train the models\n",
    "from sklearn.model_selection import train_test_split\n",
    "from sklearn.metrics import accuracy_score\n",
    "\n",
    "#model 1\n",
    "from sklearn.linear_model import LogisticRegression\n",
    "#model 2\n",
    "from sklearn.ensemble import RandomForestClassifier as RFC\n",
    "#Model 3\n",
    "from sklearn.linear_model import Ridge\n",
    "#Mode 4\n",
    "from sklearn import tree\n",
    "from sklearn.tree import DecisionTreeClassifier\n",
    "#Model 5\n",
    "from sklearn import linear_model \n",
    "from sklearn.linear_model import LinearRegression\n",
    "#Model 6\n",
    "from sklearn.neighbors import KNeighborsClassifier\n",
    "from sklearn.preprocessing import PolynomialFeatures"
   ]
  },
  {
   "cell_type": "markdown",
   "id": "6ad02fb6-a293-47b1-a378-e543ba276b1a",
   "metadata": {},
   "source": [
    "\n"
   ]
  },
  {
   "cell_type": "markdown",
   "id": "fd84728c-e11f-4d64-b7c3-edde37f72592",
   "metadata": {},
   "source": [
    "<font size = +1>**Prunnig Library**</font>"
   ]
  },
  {
   "cell_type": "code",
   "execution_count": 170,
   "id": "d928f368-64e1-4f9f-ad6f-f8ec0370218f",
   "metadata": {},
   "outputs": [],
   "source": [
    "#Library for pruning our models to preent overfitting\n",
    "from sklearn.linear_model import RidgeCV\n",
    "from sklearn.model_selection import RepeatedKFold\n",
    "\n",
    "from sklearn.model_selection import GridSearchCV\n",
    "from sklearn.metrics import roc_auc_score"
   ]
  },
  {
   "cell_type": "code",
   "execution_count": 171,
   "id": "2728ebd8-e044-4ecf-88ab-62e93951cdfd",
   "metadata": {},
   "outputs": [],
   "source": [
    "#training and splitting the data into x(train, test) and y(train, test)\n",
    "x_train, x_test, y_train, y_test = train_test_split(x, y, train_size=0.80, random_state=42, shuffle = True)"
   ]
  },
  {
   "cell_type": "markdown",
   "id": "98fe19ce-66d2-4a3c-9879-9d37e86472a4",
   "metadata": {},
   "source": [
    "<font size = +1>**1. Logistic Regression**</font>"
   ]
  },
  {
   "cell_type": "code",
   "execution_count": 75,
   "id": "15203cb6-6daa-40d0-9a35-8ec0c16461f5",
   "metadata": {},
   "outputs": [
    {
     "name": "stdout",
     "output_type": "stream",
     "text": [
      "Train accuracy score: 0.61021773160666\n",
      "Test accuracy score: 0.6112692088787707\n"
     ]
    }
   ],
   "source": [
    "#Assign LogisticRegression to logreg \n",
    "logreg = LogisticRegression()\n",
    "#Fit the x and y train values into the fit function in logistic.fit function\n",
    "logreg.fit(x_train,y_train)\n",
    "#make predictions using the x_train values this will enable us to measure the accuracy of the model\n",
    "y_pred = logreg.predict(x_train)\n",
    "\n",
    "#print the train accuracy score and the test accuracy score, numbers above o.7 indicates that the model is fair accurate\n",
    "print('Train accuracy score:',accuracy_score(y_train,y_pred))\n",
    "print('Test accuracy score:', accuracy_score(y_test,logreg.predict(x_test)))"
   ]
  },
  {
   "cell_type": "markdown",
   "id": "c928deb3-95d5-4b5d-b6a2-42b6255cb1d2",
   "metadata": {},
   "source": [
    "<font size = +1>**2. Random Forest Classifier**</font>"
   ]
  },
  {
   "cell_type": "code",
   "execution_count": 173,
   "id": "06e2e7ad-6d4b-4b77-981b-3893dd52bb44",
   "metadata": {},
   "outputs": [
    {
     "name": "stdout",
     "output_type": "stream",
     "text": [
      "Train accuracy score: 1.0\n",
      "Test accuracy score: 0.7273762094479226\n"
     ]
    }
   ],
   "source": [
    "#assigning RFC(Random forest classifier) to rfc\n",
    "rfc_b = RFC()\n",
    "#fitting the x and y (train) values to the RFC function\n",
    "rfc_b.fit(x_train,y_train)\n",
    "#predicting the values of y_train values using x_train values after fitting\n",
    "y_pred = rfc_b.predict(x_train)\n",
    "#printing the accuracy score of our model\n",
    "print('Train accuracy score:',accuracy_score(y_train,y_pred))\n",
    "print('Test accuracy score:', accuracy_score(y_test,rfc_b.predict(x_test)))"
   ]
  },
  {
   "cell_type": "markdown",
   "id": "eac7a2fd-75e9-4d6a-818e-287b663da089",
   "metadata": {},
   "source": [
    "<font size = +0.5>**2.1 Using prunning to prevent our model from overfitting**</font>"
   ]
  },
  {
   "cell_type": "markdown",
   "id": "8474c4ba-8ccd-4069-a057-d8662763cc9f",
   "metadata": {},
   "source": [
    "We will use gridsearchcv to determine the best parameters for our model parameters."
   ]
  },
  {
   "cell_type": "code",
   "execution_count": 174,
   "id": "edcc32c6-60b1-4ba0-a8c8-24e19a9cd514",
   "metadata": {},
   "outputs": [
    {
     "name": "stdout",
     "output_type": "stream",
     "text": [
      "Param for GS {'max_depth': 10, 'min_samples_leaf': 1, 'min_samples_split': 2}\n",
      "Test accuracy score: 0.9967269104881172\n",
      "Test accuracy score: 0.7245304496300512\n"
     ]
    }
   ],
   "source": [
    "param_rfc = {\n",
    "    \"max_depth\": list(range(1, 20)),\n",
    "    \"min_samples_split\": [2,5,7,10],\n",
    "    \"min_samples_leaf\": [1,2,5]\n",
    "}\n",
    "\n",
    "rfc_model = RFC(random_state=42)\n",
    "grid_rfc_cv = GridSearchCV(rfc_model, param_rfc, n_jobs=-1, cv=3).fit(x_train, y_train)\n",
    "\n",
    "print(\"Param for GS\", grid_cv.best_params_)\n",
    "print('Test accuracy score:', accuracy_score(y_train, grid_rfc_cv.predict(x_train)))\n",
    "print('Test accuracy score:', accuracy_score(y_test, grid_rfc_cv.predict(x_test)))"
   ]
  },
  {
   "cell_type": "markdown",
   "id": "22545e1c-7dc0-4540-9a07-f22bfcdcc555",
   "metadata": {},
   "source": [
    "This model is more accurate than the logistic model initially used, with train accuracy score of 1 and test accuracy score of 0.5(this is poor considering that it is 0.2 points below the 0.7)"
   ]
  },
  {
   "cell_type": "markdown",
   "id": "06e76130-8995-4948-b636-5873969db58e",
   "metadata": {},
   "source": [
    "<font size = +1>**3. Ridge**</font>"
   ]
  },
  {
   "cell_type": "markdown",
   "id": "6a5f6603-aa03-4034-bdc1-ad5ee0b811ce",
   "metadata": {},
   "source": [
    "We will first determine the best value for alpha parameter using RidgeCV "
   ]
  },
  {
   "cell_type": "code",
   "execution_count": 83,
   "id": "7071f60b-c460-433f-aaad-71376423ed31",
   "metadata": {},
   "outputs": [
    {
     "name": "stdout",
     "output_type": "stream",
     "text": [
      "int64\n",
      "Alpha 0.1\n"
     ]
    }
   ],
   "source": [
    "#Replace the string attributes of the label column with integer numbers\n",
    "y_replaced = data['New_Weather'].replace({'Clear':0, 'Cloudy':1,'Rain':2, 'Other':4})\n",
    "print(y_replaced.dtype)\n",
    "\n",
    "y_scaled = pr.scale(y_replaced)\n",
    "#assigning new train and test values to our x and y\n",
    "x_trained, x_tested, y_trained, y_tested = train_test_split(x, y_replaced, train_size=0.80, random_state=42, shuffle = True)\n",
    "\n",
    "#Define cross-validation method to validate model\n",
    "cv = RepeatedKFold(n_splits=10, n_repeats=3, random_state=42)\n",
    "\n",
    "#Using cross validation determine the best value for alpha/lamda\n",
    "model = RidgeCV(alphas=[0.1, 1.0, 10], cv=cv)\n",
    "model.fit(x_trained, y_trained)\n",
    "print(\"Alpha\", model.alpha_)"
   ]
  },
  {
   "cell_type": "markdown",
   "id": "54c78bd8-d26b-4c44-87b7-214329b3dd2b",
   "metadata": {},
   "source": [
    "<font size = +0.5>**3.2 Using the generated alpha value which we will input into the model as our parameter for our prediction**</font>"
   ]
  },
  {
   "cell_type": "code",
   "execution_count": 92,
   "id": "dee668af-f98f-459e-99e7-d41dab9b888b",
   "metadata": {},
   "outputs": [
    {
     "name": "stdout",
     "output_type": "stream",
     "text": [
      "0.46776718371993736\n",
      "0.4746727376209448\n"
     ]
    }
   ],
   "source": [
    "#instantiating ridge with the Ridge function from our library\n",
    "ridge_model = Ridge(alpha = 0.1)\n",
    "ridge_model.fit(x_trained, y_trained)\n",
    "\n",
    "#predicting our y labels with their respective x_trained values\n",
    "y_prob = ridge_model.predict(x_trained)\n",
    "#Convert the predicted values of y to whole numbers \n",
    "y_pred = np.around(y_prob)\n",
    "\n",
    "#Predict and convert the label values for the test features \n",
    "y_test = np.around(model.predict(x_tested))\n",
    "#test_preds = np.asarray([np.round(line) for line in yp_test])\n",
    "#Next, check for the accuracy of the model\n",
    "print(accuracy_score(y_pred, y_trained))\n",
    "print(accuracy_score(y_test, y_tested))"
   ]
  },
  {
   "cell_type": "markdown",
   "id": "5ce6cdbb-4395-488c-a05e-f09790c63285",
   "metadata": {},
   "source": [
    "<font size = +1>**4. KNeigborsClassifier Model**</font>"
   ]
  },
  {
   "cell_type": "code",
   "execution_count": 103,
   "id": "135cfe42-b469-4a82-96df-46baaa088075",
   "metadata": {},
   "outputs": [
    {
     "name": "stdout",
     "output_type": "stream",
     "text": [
      "<built-in method view of numpy.ndarray object at 0x0000024AFDDF3390>\n",
      "Train accuracy score: 0.7727337412836203\n",
      "Test accuracy score: 0.6579396698918611\n"
     ]
    }
   ],
   "source": [
    "#Instantiate a variable with the model Kneighborsclassifier \n",
    "knn = KNeighborsClassifier()\n",
    "#Fit and train the data sets\n",
    "knn.fit(x_train,y_train)\n",
    "#Using the model, predict the values of trained labels then check for accuracy.\n",
    "y_Kpred = knn.predict(x_train)\n",
    "print(y_Kpred.view)\n",
    "print('Train accuracy score:',accuracy_score(y_train,y_Kpred))\n",
    "print('Test accuracy score:',accuracy_score(y_test,knn.predict(x_test)))"
   ]
  },
  {
   "cell_type": "markdown",
   "id": "5545a975-eb63-42f0-b0c0-18e0cdf107e0",
   "metadata": {},
   "source": [
    "<font size = +1>**5. Linear Regression**</font>"
   ]
  },
  {
   "cell_type": "code",
   "execution_count": 132,
   "id": "50c58653-dd6e-4e5a-8ca0-3acda7167127",
   "metadata": {
    "tags": []
   },
   "outputs": [
    {
     "name": "stdout",
     "output_type": "stream",
     "text": [
      "0.5063327166642949\n",
      "0.504268639726807\n"
     ]
    }
   ],
   "source": [
    "y_replace = data['New_Weather'].replace({'Clear':0, 'Cloudy':1,'Rain':2, 'Other':4})\n",
    "x_trains, x_tests, y_trains, y_tests = train_test_split(x, y_replace, train_size=0.80, random_state=42, shuffle = True)\n",
    "\n",
    "#Instantiate a variable with the LinearRegression model\n",
    "lr = LinearRegression()\n",
    "#Fit the data sets into the model\n",
    "lr.fit(x_trains, y_trains)\n",
    "#Predict the y label using the x features\n",
    "y_train_pred = lr.predict(x_trains)\n",
    "#Convert the predicted y values to whole number\n",
    "y_train_pred_int = y_train_pred.astype(int)\n",
    "\n",
    "#Predict the y lable for the test data and convert to whole numbers\n",
    "y_test_pred = lr.predict(x_test)\n",
    "y_test_pred_int = y_test_pred.astype(int)\n",
    "\n",
    "print(accuracy_score(y_trains, y_train_pred_int))\n",
    "print(accuracy_score(y_tests, y_test_pred_int))"
   ]
  },
  {
   "cell_type": "markdown",
   "id": "39dec030-39b7-4de3-aac3-d368367584dd",
   "metadata": {},
   "source": [
    "<font size = +1>**6. DecisionTreeClassifier**</font>"
   ]
  },
  {
   "cell_type": "code",
   "execution_count": 147,
   "id": "25627832-875e-4c0d-af7f-604844e90d51",
   "metadata": {},
   "outputs": [
    {
     "name": "stdout",
     "output_type": "stream",
     "text": [
      "1.0\n",
      "0.6363118952760387\n"
     ]
    }
   ],
   "source": [
    "#instantiate a variable with the decisiontreeclassifier model\n",
    "dtc = DecisionTreeClassifier(random_state = 42)\n",
    "#Fit the data into the model\n",
    "dtc.fit(x_trains, y_trains)\n",
    "\n",
    "#Use the model to predict the values of the trained label\n",
    "y_dtc_pred = dtc.predict(x_trains)\n",
    "\n",
    "print(accuracy_score(y_trains, y_dtc_pred))\n",
    "print(accuracy_score(y_tests, dtc.predict(x_tests)))\n"
   ]
  },
  {
   "cell_type": "markdown",
   "id": "a812ef54-91a3-4ed5-8f58-e27eac84c3f9",
   "metadata": {},
   "source": [
    "The model overfits our data, there will be need to prune the parameters of our data."
   ]
  },
  {
   "cell_type": "markdown",
   "id": "7581aaa6-582f-4d1c-adf1-c1409563c9b7",
   "metadata": {},
   "source": [
    "<font size = +0.5>**6.1 Using prunning to prevent our model from overfitting.**</font>"
   ]
  },
  {
   "cell_type": "code",
   "execution_count": 175,
   "id": "e219b79a-671d-4231-b198-3d89ad891344",
   "metadata": {},
   "outputs": [
    {
     "name": "stdout",
     "output_type": "stream",
     "text": [
      "Param for GS {'max_depth': 10, 'min_samples_leaf': 1, 'min_samples_split': 2}\n",
      "CV score for GS nan\n",
      "0.7637683221858546\n",
      "0.6556630620375641\n"
     ]
    }
   ],
   "source": [
    "param_grid = {\n",
    "    \"max_depth\": list(range(10, 20)),\n",
    "    \"min_samples_split\": [2,5,7,10],\n",
    "    \"min_samples_leaf\": [1,2,5]\n",
    "}\n",
    "\n",
    "clf = DecisionTreeClassifier(random_state=42)\n",
    "grid_cv = GridSearchCV(clf, param_grid, scoring=\"roc_auc\", n_jobs=-1, cv=3).fit(x_trains, y_trains)\n",
    "\n",
    "print(\"Param for GS\", grid_cv.best_params_)\n",
    "print(\"CV score for GS\", grid_cv.best_score_)\n",
    "print(accuracy_score(y_trains, grid_cv.predict(x_trains)))\n",
    "print(accuracy_score(y_tests, grid_cv.predict(x_tests)))\n",
    "#print(\"Train AUC ROC Score for GS: \", roc_auc_score(y_train, grid_cv.predict(x_trains)))\n",
    "#print(\"Test AUC ROC Score for GS: \", roc_auc_score(y_test, grid_cv.predict(x_tests)))"
   ]
  },
  {
   "cell_type": "markdown",
   "id": "45470fcb-d311-4388-90f9-bac9e9259045",
   "metadata": {},
   "source": [
    "<font size=+2>**Conclusion:**</font>"
   ]
  },
  {
   "cell_type": "markdown",
   "id": "663d8c1f-5658-4017-ba0a-cbe6c302e443",
   "metadata": {},
   "source": [
    "With exception to prunning, KNeighborsClassifier appears to be the best ML algorithm for predicting weather, although other models such as Random Forest Classifier(RFC) and Decision Tree Classifier showed significant improvent with our training data and test data after prunning. Random Forest Classifier(RFC) performed better than other model after prunning."
   ]
  },
  {
   "cell_type": "code",
   "execution_count": null,
   "id": "c65ef057-669e-4a37-ae28-29dcc1c46cad",
   "metadata": {},
   "outputs": [],
   "source": []
  }
 ],
 "metadata": {
  "kernelspec": {
   "display_name": "Python 3 (ipykernel)",
   "language": "python",
   "name": "python3"
  },
  "language_info": {
   "codemirror_mode": {
    "name": "ipython",
    "version": 3
   },
   "file_extension": ".py",
   "mimetype": "text/x-python",
   "name": "python",
   "nbconvert_exporter": "python",
   "pygments_lexer": "ipython3",
   "version": "3.9.12"
  }
 },
 "nbformat": 4,
 "nbformat_minor": 5
}
